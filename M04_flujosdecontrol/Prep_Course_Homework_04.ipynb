{
 "cells": [
  {
   "attachments": {},
   "cell_type": "markdown",
   "metadata": {},
   "source": [
    "## Flujos de Control"
   ]
  },
  {
   "attachments": {},
   "cell_type": "markdown",
   "metadata": {},
   "source": [
    "1) Crear una variable que contenga un elemento del conjunto de números enteros y luego imprimir por pantalla si es mayor o menor a cero"
   ]
  },
  {
   "cell_type": "code",
   "execution_count": 1,
   "metadata": {},
   "outputs": [
    {
     "name": "stdout",
     "output_type": "stream",
     "text": [
      "a es mayor que cero\n"
     ]
    }
   ],
   "source": [
    "a = 5\n",
    "if a>0:\n",
    "    print(\"a es mayor que cero\")\n",
    "else:\n",
    "    print(\"a es menor que cero\")"
   ]
  },
  {
   "attachments": {},
   "cell_type": "markdown",
   "metadata": {},
   "source": [
    "2) Crear dos variables y un condicional que informe si son del mismo tipo de dato"
   ]
  },
  {
   "cell_type": "code",
   "execution_count": 5,
   "metadata": {},
   "outputs": [
    {
     "name": "stdout",
     "output_type": "stream",
     "text": [
      "no son el mismo tipo de dato\n"
     ]
    }
   ],
   "source": [
    "b = 5\n",
    "c = 16.5\n",
    "if type(b) == type(c):\n",
    "    print(\"son el mismo tipo de dato\")\n",
    "else:\n",
    "    print(\"no son el mismo tipo de dato\")"
   ]
  },
  {
   "attachments": {},
   "cell_type": "markdown",
   "metadata": {},
   "source": [
    "3) Para los valores enteros del 1 al 20, imprimir por pantalla si es par o impar"
   ]
  },
  {
   "cell_type": "code",
   "execution_count": 6,
   "metadata": {},
   "outputs": [
    {
     "name": "stdout",
     "output_type": "stream",
     "text": [
      "1  es impar\n",
      "2  es par\n",
      "3  es impar\n",
      "4  es par\n",
      "5  es impar\n",
      "6  es par\n",
      "7  es impar\n",
      "8  es par\n",
      "9  es impar\n",
      "10  es par\n",
      "11  es impar\n",
      "12  es par\n",
      "13  es impar\n",
      "14  es par\n",
      "15  es impar\n",
      "16  es par\n",
      "17  es impar\n",
      "18  es par\n",
      "19  es impar\n"
     ]
    }
   ],
   "source": [
    "for i in range(1,20):\n",
    "    if i%2 == 0:\n",
    "        print(i,\" es par\")\n",
    "    else:\n",
    "        print(i,\" es impar\")"
   ]
  },
  {
   "attachments": {},
   "cell_type": "markdown",
   "metadata": {},
   "source": [
    "4) En un ciclo for mostrar para los valores entre 0 y 5 el resultado de elevarlo a la potencia igual a 3"
   ]
  },
  {
   "cell_type": "code",
   "execution_count": 7,
   "metadata": {},
   "outputs": [
    {
     "name": "stdout",
     "output_type": "stream",
     "text": [
      "0\n",
      "1\n",
      "8\n",
      "27\n",
      "64\n"
     ]
    }
   ],
   "source": [
    "for i in range(0,5):\n",
    "    print(i**3)"
   ]
  },
  {
   "attachments": {},
   "cell_type": "markdown",
   "metadata": {},
   "source": [
    "5) Crear una variable que contenga un número entero y realizar un ciclo for la misma cantidad de ciclos"
   ]
  },
  {
   "cell_type": "code",
   "execution_count": 8,
   "metadata": {},
   "outputs": [
    {
     "name": "stdout",
     "output_type": "stream",
     "text": [
      "0\n",
      "1\n",
      "2\n",
      "3\n",
      "4\n"
     ]
    }
   ],
   "source": [
    "a = 5\n",
    "contador = 0\n",
    "for i in range(a):\n",
    "    print(i)"
   ]
  },
  {
   "attachments": {},
   "cell_type": "markdown",
   "metadata": {},
   "source": [
    "6) Utilizar un ciclo while para realizar el factorial de un número guardado en una variable, sólo si la variable contiene un número entero mayor a 0"
   ]
  },
  {
   "cell_type": "code",
   "execution_count": 9,
   "metadata": {},
   "outputs": [
    {
     "name": "stdout",
     "output_type": "stream",
     "text": [
      "el factorial es: 30\n",
      "el factorial es: 120\n",
      "el factorial es: 360\n",
      "el factorial es: 720\n"
     ]
    }
   ],
   "source": [
    "n = 6\n",
    "if type(n) == int:\n",
    "    if n>0:\n",
    "        factorial = n\n",
    "        while n>2:\n",
    "            n = n-1\n",
    "            factorial = factorial*n\n",
    "            print(\"el factorial es:\",factorial)\n",
    "    else:\n",
    "        print(\"la variable no es mayor a cero\")\n",
    "else:\n",
    "    print(\"la variable no es un entero\")"
   ]
  },
  {
   "attachments": {},
   "cell_type": "markdown",
   "metadata": {},
   "source": [
    "7) Crear un ciclo for dentro de un ciclo while"
   ]
  },
  {
   "cell_type": "code",
   "execution_count": 2,
   "metadata": {},
   "outputs": [
    {
     "name": "stdout",
     "output_type": "stream",
     "text": [
      "Ciclo while nro  1\n",
      "Ciclo for nro  1\n",
      "Ciclo while nro  2\n",
      "Ciclo for nro  1\n",
      "Ciclo for nro  2\n",
      "Ciclo while nro  3\n",
      "Ciclo for nro  1\n",
      "Ciclo for nro  2\n",
      "Ciclo for nro  3\n",
      "Ciclo while nro  4\n",
      "Ciclo for nro  1\n",
      "Ciclo for nro  2\n",
      "Ciclo for nro  3\n",
      "Ciclo for nro  4\n"
     ]
    }
   ],
   "source": [
    "n = 1\n",
    "while n < 5:\n",
    "    print(\"Ciclo while nro \",n)\n",
    "    for i in range(1, n+1):\n",
    "        print(\"Ciclo for nro \",i)\n",
    "    n += 1"
   ]
  },
  {
   "attachments": {},
   "cell_type": "markdown",
   "metadata": {},
   "source": [
    "8) Crear un ciclo while dentro de un ciclo for"
   ]
  },
  {
   "cell_type": "code",
   "execution_count": null,
   "metadata": {},
   "outputs": [],
   "source": [
    "n = 5\n",
    "for i in range(1, n):\n",
    "    while(n < 5):\n",
    "        n -= 1\n",
    "        print(\"Ciclo while nro \", n)\n",
    "        print(\"Ciclo for nro \", i)"
   ]
  },
  {
   "attachments": {},
   "cell_type": "markdown",
   "metadata": {},
   "source": [
    "9) Imprimir los números primos existentes entre 0 y 30"
   ]
  },
  {
   "cell_type": "code",
   "execution_count": 7,
   "metadata": {},
   "outputs": [
    {
     "name": "stdout",
     "output_type": "stream",
     "text": [
      "2\n",
      "3\n",
      "5\n",
      "7\n",
      "11\n",
      "13\n",
      "17\n",
      "19\n",
      "23\n",
      "29\n"
     ]
    }
   ],
   "source": [
    "max = 30\n",
    "n = 2\n",
    "primo = True\n",
    "while n < max:\n",
    "    for div in range(2,n):\n",
    "        if n % div == 0:\n",
    "            primo = False\n",
    "    if primo:\n",
    "        print(n)\n",
    "    else:\n",
    "        primo = True\n",
    "    n += 1"
   ]
  },
  {
   "attachments": {},
   "cell_type": "markdown",
   "metadata": {},
   "source": [
    "10) ¿Se puede mejorar el proceso del punto 9? Utilizar las sentencias break y/ó continue para tal fin"
   ]
  },
  {
   "cell_type": "code",
   "execution_count": 8,
   "metadata": {},
   "outputs": [
    {
     "name": "stdout",
     "output_type": "stream",
     "text": [
      "2\n",
      "3\n",
      "5\n",
      "7\n",
      "11\n",
      "13\n",
      "17\n",
      "19\n",
      "23\n",
      "29\n"
     ]
    }
   ],
   "source": [
    "max = 30\n",
    "n = 2\n",
    "primo = True\n",
    "while n < max:\n",
    "    for div in range(2,n):\n",
    "        if n % div == 0:\n",
    "            primo = False\n",
    "            break\n",
    "    if primo:\n",
    "        print(n)\n",
    "    else:\n",
    "        primo = True\n",
    "    n += 1"
   ]
  },
  {
   "attachments": {},
   "cell_type": "markdown",
   "metadata": {},
   "source": [
    "11) En los puntos 9 y 10, se diseño un código que encuentra números primos y además se lo optimizó. ¿Es posible saber en qué medida se optimizó?"
   ]
  },
  {
   "cell_type": "code",
   "execution_count": 12,
   "metadata": {},
   "outputs": [],
   "source": [
    "con_break = 0\n",
    "sin_break = 0\n",
    "max = 30\n",
    "n = 2\n",
    "primo = True"
   ]
  },
  {
   "cell_type": "code",
   "execution_count": 10,
   "metadata": {},
   "outputs": [
    {
     "name": "stdout",
     "output_type": "stream",
     "text": [
      "2\n",
      "3\n",
      "5\n",
      "7\n",
      "11\n",
      "13\n",
      "17\n",
      "19\n",
      "23\n",
      "29\n",
      "cantidad ciclos 378\n"
     ]
    }
   ],
   "source": [
    "while n < max:\n",
    "    for div in range(2,n):\n",
    "        sin_break += 1\n",
    "        if n % div == 0:\n",
    "            primo = False\n",
    "    if primo:\n",
    "        print(n)\n",
    "    else:\n",
    "        primo = True\n",
    "    n += 1\n",
    "print(\"cantidad ciclos\",sin_break)"
   ]
  },
  {
   "cell_type": "code",
   "execution_count": 13,
   "metadata": {},
   "outputs": [
    {
     "name": "stdout",
     "output_type": "stream",
     "text": [
      "2\n",
      "3\n",
      "5\n",
      "7\n",
      "11\n",
      "13\n",
      "17\n",
      "19\n",
      "23\n",
      "29\n",
      "cantidad ciclos 134\n"
     ]
    }
   ],
   "source": [
    "while n < max:\n",
    "    for div in range(2,n):\n",
    "        con_break += 1\n",
    "        if n % div == 0:\n",
    "            primo = False\n",
    "            break\n",
    "    if primo:\n",
    "        print(n)\n",
    "    else:\n",
    "        primo = True\n",
    "    n += 1\n",
    "print(\"cantidad ciclos\",con_break)"
   ]
  },
  {
   "attachments": {},
   "cell_type": "markdown",
   "metadata": {},
   "source": [
    "12) Aplicando continue, armar un ciclo while que solo imprima los valores divisibles por 12, dentro del rango de números de 100 a 300"
   ]
  },
  {
   "cell_type": "code",
   "execution_count": 2,
   "metadata": {},
   "outputs": [
    {
     "name": "stdout",
     "output_type": "stream",
     "text": [
      "108  es divisible por 12\n",
      "120  es divisible por 12\n",
      "132  es divisible por 12\n",
      "144  es divisible por 12\n",
      "156  es divisible por 12\n",
      "168  es divisible por 12\n",
      "180  es divisible por 12\n",
      "192  es divisible por 12\n",
      "204  es divisible por 12\n",
      "216  es divisible por 12\n",
      "228  es divisible por 12\n",
      "240  es divisible por 12\n",
      "252  es divisible por 12\n",
      "264  es divisible por 12\n",
      "276  es divisible por 12\n",
      "288  es divisible por 12\n",
      "300  es divisible por 12\n"
     ]
    }
   ],
   "source": [
    "n = 99\n",
    "while n <= 300:\n",
    "    n += 1\n",
    "    if n % 12 != 0:\n",
    "        continue\n",
    "    print(n, \" es divisible por 12\")"
   ]
  },
  {
   "attachments": {},
   "cell_type": "markdown",
   "metadata": {},
   "source": [
    "13) Utilizar la función **input()** que permite hacer ingresos por teclado, para encontrar números primos y dar la opción al usario de buscar el siguiente"
   ]
  },
  {
   "cell_type": "code",
   "execution_count": 1,
   "metadata": {},
   "outputs": [
    {
     "name": "stdout",
     "output_type": "stream",
     "text": [
      "1\n",
      "¿Desea encontrar el siguiente número primo?\n",
      "2\n",
      "¿Desea encontrar el siguiente número primo?\n",
      "3\n",
      "¿Desea encontrar el siguiente número primo?\n",
      "5\n",
      "¿Desea encontrar el siguiente número primo?\n",
      "7\n",
      "¿Desea encontrar el siguiente número primo?\n",
      "11\n",
      "¿Desea encontrar el siguiente número primo?\n",
      "Se finaliza el proceso\n"
     ]
    }
   ],
   "source": [
    "n = 1\n",
    "sigue = 1\n",
    "primo = True\n",
    "while (sigue == 1):\n",
    "    for div in range(2, n):\n",
    "        if (n % div == 0):\n",
    "            primo = False\n",
    "            break\n",
    "    if (primo):\n",
    "        print(n)\n",
    "        print('¿Desea encontrar el siguiente número primo?')\n",
    "        if (input() != '1'):\n",
    "            print('Se finaliza el proceso')\n",
    "            break\n",
    "    else:\n",
    "        primo = True\n",
    "    n += 1"
   ]
  },
  {
   "attachments": {},
   "cell_type": "markdown",
   "metadata": {},
   "source": [
    "14) Crear un ciclo while que encuentre dentro del rango de 100 a 300 el primer número divisible por 3 y además múltiplo de 6"
   ]
  },
  {
   "cell_type": "code",
   "execution_count": 3,
   "metadata": {},
   "outputs": [
    {
     "name": "stdout",
     "output_type": "stream",
     "text": [
      "El número divisible por 3 y multiplo de 6 es:  102\n"
     ]
    }
   ],
   "source": [
    "n = 100\n",
    "while n <= 300:\n",
    "    if n % 6 == 0:\n",
    "        print(\"El número divisible por 3 y multiplo de 6 es: \",n)\n",
    "        break\n",
    "    n+=1"
   ]
  }
 ],
 "metadata": {
  "interpreter": {
   "hash": "c85384e4cb51c8b72350f3a8712cc8351fdc3955e32a27f9b60c6242ab125f01"
  },
  "kernelspec": {
   "display_name": "Python 3 (ipykernel)",
   "language": "python",
   "name": "python3"
  },
  "language_info": {
   "codemirror_mode": {
    "name": "ipython",
    "version": 3
   },
   "file_extension": ".py",
   "mimetype": "text/x-python",
   "name": "python",
   "nbconvert_exporter": "python",
   "pygments_lexer": "ipython3",
   "version": "3.10.11"
  }
 },
 "nbformat": 4,
 "nbformat_minor": 4
}
