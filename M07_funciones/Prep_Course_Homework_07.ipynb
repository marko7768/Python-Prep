{
 "cells": [
  {
   "attachments": {},
   "cell_type": "markdown",
   "metadata": {},
   "source": [
    "## Funciones"
   ]
  },
  {
   "attachments": {},
   "cell_type": "markdown",
   "metadata": {},
   "source": [
    "1) Crear una función que reciba un número como parámetro y devuelva True si es primo y False si no lo es"
   ]
  },
  {
   "cell_type": "code",
   "execution_count": 1,
   "metadata": {},
   "outputs": [],
   "source": [
    "def is_primo(numero):\n",
    "    primo = True\n",
    "    max = 0\n",
    "    while numero > max:\n",
    "        for div in range(2,numero):\n",
    "            if(numero % div == 0):\n",
    "                primo = False\n",
    "                return primo\n",
    "                break\n",
    "        if primo:\n",
    "            return primo\n",
    "        else:\n",
    "            primo = True\n",
    "        max += 1"
   ]
  },
  {
   "cell_type": "code",
   "execution_count": 10,
   "metadata": {},
   "outputs": [
    {
     "data": {
      "text/plain": [
       "True"
      ]
     },
     "execution_count": 10,
     "metadata": {},
     "output_type": "execute_result"
    }
   ],
   "source": [
    "is_primo(3)"
   ]
  },
  {
   "attachments": {},
   "cell_type": "markdown",
   "metadata": {},
   "source": [
    "2) Utilizando la función del punto 1, realizar otra función que reciba de parámetro una lista de números y devuelva sólo aquellos que son primos en otra lista"
   ]
  },
  {
   "cell_type": "code",
   "execution_count": 11,
   "metadata": {},
   "outputs": [],
   "source": [
    "def primos_list(numeros = []):\n",
    "    primos_list = []\n",
    "    for num in numeros:\n",
    "        if(is_primo(num)):\n",
    "            primos_list.append(num)\n",
    "    return primos_list"
   ]
  },
  {
   "cell_type": "code",
   "execution_count": 13,
   "metadata": {},
   "outputs": [
    {
     "data": {
      "text/plain": [
       "[13, 29, 3]"
      ]
     },
     "execution_count": 13,
     "metadata": {},
     "output_type": "execute_result"
    }
   ],
   "source": [
    "lista = [13,29,10,15,30,35,3]\n",
    "primos_list(lista)"
   ]
  },
  {
   "attachments": {},
   "cell_type": "markdown",
   "metadata": {},
   "source": [
    "3) Crear una función que al recibir una lista de números, devuelva el que más se repite y cuántas veces lo hace. Si hay más de un \"más repetido\", que devuelva cualquiera"
   ]
  },
  {
   "cell_type": "code",
   "execution_count": 16,
   "metadata": {},
   "outputs": [],
   "source": [
    "def mas_repetido (lista_numeros = []):\n",
    "    dic_mas_repetido = {}\n",
    "    for numero in lista_numeros:\n",
    "        if(numero in dic_mas_repetido):\n",
    "            dic_mas_repetido[numero] += 1\n",
    "        else:\n",
    "            dic_mas_repetido[numero] = 1\n",
    "    num_mas_repetido = max(dic_mas_repetido,key=dic_mas_repetido.get)\n",
    "    cantidad_repetido = dic_mas_repetido[num_mas_repetido]\n",
    "    return num_mas_repetido,cantidad_repetido"
   ]
  },
  {
   "cell_type": "code",
   "execution_count": 20,
   "metadata": {},
   "outputs": [
    {
     "data": {
      "text/plain": [
       "(5, 3)"
      ]
     },
     "execution_count": 20,
     "metadata": {},
     "output_type": "execute_result"
    }
   ],
   "source": [
    "lis = [5,6,8,15,25,5,36,4,11,9,5]\n",
    "mas_repetido(lis)"
   ]
  },
  {
   "attachments": {},
   "cell_type": "markdown",
   "metadata": {},
   "source": [
    "4) Crear una función que convierta entre grados Celsius, Farenheit y Kelvin<br>\n",
    "Fórmula 1\t: (°C × 9/5) + 32 = °F<br>\n",
    "Fórmula 2\t: °C + 273.15 = °K<br>\n",
    "Debe recibir 3 parámetros: el valor, la medida de orígen y la medida de destino\n"
   ]
  },
  {
   "cell_type": "code",
   "execution_count": 12,
   "metadata": {},
   "outputs": [],
   "source": [
    "def convert_grados(valor,origen,destino):\n",
    "    if (origen == \"celsius\"):\n",
    "        if (destino == \"celsius\"):\n",
    "            valor_destino = valor\n",
    "        elif (destino == \"farenheit\"):\n",
    "            valor_destino = (valor * 9/5) + 32\n",
    "        elif (destino == \"kelvin\"):\n",
    "            valor_destino = valor + 273.15\n",
    "        else:\n",
    "            print('Parámetro de Destino incorrecto')\n",
    "    elif (origen == \"farenheit\"):\n",
    "        if (destino == \"farenheit\"):\n",
    "            valor_destino = valor\n",
    "        elif (destino == \"celsius\"):\n",
    "            valor_destino = (valor - 32) * 5/9\n",
    "        elif (destino == \"kelvin\"):\n",
    "            valor_destino = ((valor - 32)*5/9) + 273.15\n",
    "        else:\n",
    "            print('Parámetro de Destino incorrecto')\n",
    "    elif origen == 'kelvin':\n",
    "        if destino == 'celsius':\n",
    "            valor_destino = valor - 273.15\n",
    "        elif destino == 'farenheit':\n",
    "            valor_destino = ((valor - 273.15) * 9 / 5) + 32\n",
    "        elif destino == 'kelvin':\n",
    "            valor_destino = valor\n",
    "        else:\n",
    "            print('Parámetro de Destino incorrecto')\n",
    "    return valor_destino"
   ]
  },
  {
   "cell_type": "code",
   "execution_count": 6,
   "metadata": {},
   "outputs": [
    {
     "name": "stdout",
     "output_type": "stream",
     "text": [
      "1 grado Celsius a Kelvin: 274.15\n"
     ]
    }
   ],
   "source": [
    "print('1 grado Celsius a Kelvin:', convert_grados(1, 'celsius', 'kelvin'))"
   ]
  },
  {
   "attachments": {},
   "cell_type": "markdown",
   "metadata": {},
   "source": [
    "5) Iterando una lista con los tres valores posibles de temperatura que recibe la función del punto 5, hacer un print para cada combinación de los mismos:"
   ]
  },
  {
   "cell_type": "code",
   "execution_count": 13,
   "metadata": {},
   "outputs": [
    {
     "name": "stdout",
     "output_type": "stream",
     "text": [
      "1 grado celsius a celsius : 1\n",
      "1 grado celsius a kelvin : 274.15\n",
      "1 grado celsius a farenheit : 33.8\n",
      "1 grado kelvin a celsius : -272.15\n",
      "1 grado kelvin a kelvin : 1\n",
      "1 grado kelvin a farenheit : -457.87\n",
      "1 grado farenheit a celsius : -17.22222222222222\n",
      "1 grado farenheit a kelvin : 255.92777777777775\n",
      "1 grado farenheit a farenheit : 1\n"
     ]
    }
   ],
   "source": [
    "metricas = ['celsius', 'kelvin', 'farenheit']\n",
    "\n",
    "for i in range(0, 3):\n",
    "    for j in range(0, 3):\n",
    "        print('1 grado', metricas[i], 'a', metricas[j], ':', convert_grados(1, metricas[i], metricas[j]))\n",
    "        "
   ]
  },
  {
   "attachments": {},
   "cell_type": "markdown",
   "metadata": {},
   "source": [
    "6) Armar una función que devuelva el factorial de un número. Tener en cuenta que el usuario puede equivocarse y enviar de parámetro un número no entero o negativo"
   ]
  },
  {
   "cell_type": "code",
   "execution_count": 1,
   "metadata": {},
   "outputs": [],
   "source": [
    "def factorial(numero):\n",
    "    if(type(numero) != int):\n",
    "        return \"el valor no es un numero entero\"\n",
    "    if(numero < 0):\n",
    "        return \"el valor del numero no debe ser negativo\"\n",
    "    if (numero <=1):\n",
    "        return 1\n",
    "    numero = numero * factorial(numero -1)\n",
    "    return numero"
   ]
  },
  {
   "cell_type": "code",
   "execution_count": 4,
   "metadata": {},
   "outputs": [
    {
     "name": "stdout",
     "output_type": "stream",
     "text": [
      "120\n",
      "el valor del numero no debe ser negativo\n",
      "el valor no es un numero entero\n",
      "el valor no es un numero entero\n"
     ]
    }
   ],
   "source": [
    "print(factorial(5))\n",
    "print(factorial(-3))\n",
    "print(factorial(1.3))\n",
    "print(factorial(\"6\"))"
   ]
  }
 ],
 "metadata": {
  "interpreter": {
   "hash": "c85384e4cb51c8b72350f3a8712cc8351fdc3955e32a27f9b60c6242ab125f01"
  },
  "kernelspec": {
   "display_name": "Python 3 (ipykernel)",
   "language": "python",
   "name": "python3"
  },
  "language_info": {
   "codemirror_mode": {
    "name": "ipython",
    "version": 3
   },
   "file_extension": ".py",
   "mimetype": "text/x-python",
   "name": "python",
   "nbconvert_exporter": "python",
   "pygments_lexer": "ipython3",
   "version": "3.10.11"
  }
 },
 "nbformat": 4,
 "nbformat_minor": 4
}
