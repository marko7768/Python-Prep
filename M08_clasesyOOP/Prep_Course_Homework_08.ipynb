{
 "cells": [
  {
   "attachments": {},
   "cell_type": "markdown",
   "metadata": {},
   "source": [
    "## Clases y Programación Orientada a Objetos"
   ]
  },
  {
   "attachments": {},
   "cell_type": "markdown",
   "metadata": {},
   "source": [
    "1) Crear la clase vehículo que contenga los atributos:<br>\n",
    "Color<br>\n",
    "Si es moto, auto, camioneta ó camión<br>\n",
    "Cilindrada del motor"
   ]
  },
  {
   "cell_type": "code",
   "execution_count": 1,
   "metadata": {},
   "outputs": [],
   "source": [
    "class Vehiculo:\n",
    "    def __init__(self, color, tipo, cilindrada):\n",
    "        self.color = color\n",
    "        self.tipo = tipo\n",
    "        self.cilindrada = cilindrada"
   ]
  },
  {
   "attachments": {},
   "cell_type": "markdown",
   "metadata": {},
   "source": [
    "2) A la clase Vehiculo creada en el punto 1, agregar los siguientes métodos:<br>\n",
    "Acelerar<br>\n",
    "Frenar<br>\n",
    "Doblar<br>"
   ]
  },
  {
   "cell_type": "code",
   "execution_count": 2,
   "metadata": {},
   "outputs": [],
   "source": [
    "class Vehiculo:\n",
    "    def __init__(self, color, tipo, cilindrada):\n",
    "        self.color = color\n",
    "        self.tipo = tipo\n",
    "        self.cilindrada = cilindrada\n",
    "        self.velocidad = 0\n",
    "        self.direccion = 0\n",
    "    \n",
    "    def acelerar(self, vel):\n",
    "        self.velocidad += vel\n",
    "\n",
    "    def frenar(self,vel):\n",
    "        self.velocidad -= vel\n",
    "\n",
    "    def doblar(self,grados):\n",
    "        self.direccion += grados"
   ]
  },
  {
   "attachments": {},
   "cell_type": "markdown",
   "metadata": {},
   "source": [
    "3) Instanciar 3 objetos de la clase vehículo y ejecutar sus métodos, probar luego el resultado"
   ]
  },
  {
   "cell_type": "code",
   "execution_count": 3,
   "metadata": {},
   "outputs": [],
   "source": [
    "a1 = Vehiculo(\"rojo\",\"auto\",2)\n",
    "c1 = Vehiculo(\"azul\",\"camion\",3.6)\n",
    "m1 = Vehiculo(\"negro\",\"moto\",1)\n",
    "\n",
    "a1.acelerar(3)\n",
    "c1.frenar(5)\n",
    "m1.doblar(30)"
   ]
  },
  {
   "attachments": {},
   "cell_type": "markdown",
   "metadata": {},
   "source": [
    "4) Agregar a la clase Vehiculo, un método que muestre su estado, es decir, a que velocidad se encuentra y su dirección. Y otro método que muestre color, tipo y cilindrada"
   ]
  },
  {
   "cell_type": "code",
   "execution_count": 1,
   "metadata": {},
   "outputs": [],
   "source": [
    "class Vehiculo:\n",
    "    def __init__(self, color, tipo, cilindrada):\n",
    "        self.color = color\n",
    "        self.tipo = tipo\n",
    "        self.cilindrada = cilindrada\n",
    "        self.velocidad = 0\n",
    "        self.direccion = 0\n",
    "    \n",
    "    def acelerar(self, vel):\n",
    "        self.velocidad += vel\n",
    "\n",
    "    def frenar(self,vel):\n",
    "        self.velocidad -= vel\n",
    "\n",
    "    def doblar(self,grados):\n",
    "        self.direccion += grados\n",
    "\n",
    "    def estado(self):\n",
    "        print(\"velocidad: \",self.velocidad,\", dirección: \", self.direccion)\n",
    "\n",
    "    def tipo(self):\n",
    "        print(\"tipo: \",self.tipo, \", color: \",self.color, \" cilindrada: \",self.cilindrada)"
   ]
  },
  {
   "attachments": {},
   "cell_type": "markdown",
   "metadata": {},
   "source": [
    "5) Crear una clase que permita utilizar las funciones creadas en la práctica del módulo 7<br>\n",
    "Verificar Primo<br>\n",
    "Valor modal<br>\n",
    "Conversión grados<br>\n",
    "Factorial<br>"
   ]
  },
  {
   "cell_type": "code",
   "execution_count": 17,
   "metadata": {},
   "outputs": [],
   "source": [
    "class Matematica:\n",
    "    def __init__(self) -> None:\n",
    "        pass\n",
    "\n",
    "    def isPrimo(self,numero):\n",
    "        es_primo= True\n",
    "        for i in range(2,numero):\n",
    "            if(numero % i == 0):\n",
    "                es_primo = False\n",
    "                break\n",
    "            return es_primo\n",
    "    \n",
    "    def valorModal(self, lista = []):\n",
    "        dic_mas_repetido = {}\n",
    "        for numero in lista:\n",
    "            if(numero in dic_mas_repetido):\n",
    "                dic_mas_repetido[numero] += 1\n",
    "            else:\n",
    "                dic_mas_repetido[numero] = 1\n",
    "        num_mas_repetido = max(dic_mas_repetido,key=dic_mas_repetido.get)\n",
    "        cantidad_repetido = dic_mas_repetido[num_mas_repetido]\n",
    "        return num_mas_repetido,cantidad_repetido\n",
    "            \n",
    "    def convertGrados(self,valor,origen,destino):\n",
    "        valor_destino = None\n",
    "        if (origen == 'celsius'):\n",
    "            if (destino == 'celsius'):\n",
    "                valor_destino = valor\n",
    "            elif (destino == 'farenheit'):\n",
    "                valor_destino = (valor * 9 / 5) + 32\n",
    "            elif (destino == 'kelvin'):\n",
    "                valor_destino = valor + 273.15\n",
    "            else:\n",
    "                print('Parámetro de Destino incorrecto')\n",
    "        elif (origen == 'farenheit'):\n",
    "            if (destino == 'celsius'):\n",
    "                valor_destino = (valor - 32) * 5 / 9\n",
    "            elif (destino == 'farenheit'):\n",
    "                valor_destino = valor\n",
    "            elif (destino == 'kelvin'):\n",
    "                valor_destino = ((valor - 32) * 5 / 9) + 273.15\n",
    "            else:\n",
    "                print('Parámetro de Destino incorrecto')\n",
    "        elif (origen == 'kelvin'):\n",
    "            if (destino == 'celsius'):\n",
    "                valor_destino = valor - 273.15\n",
    "            elif (destino == 'farenheit'):\n",
    "                valor_destino = ((valor - 273.15) * 9 / 5) + 32\n",
    "            elif (destino == 'kelvin'):\n",
    "                valor_destino = valor\n",
    "            else:\n",
    "                print('Parámetro de Destino incorrecto')\n",
    "        else:\n",
    "            print('Parámetro de Origen incorrecto')\n",
    "        return valor_destino\n",
    "    \n",
    "    def factorial(self, numero):\n",
    "        if(type(numero) != int):\n",
    "            return 'El numero debe ser un entero'\n",
    "        if(numero < 0):\n",
    "            return 'El numero debe ser pisitivo'\n",
    "        if (numero > 1):\n",
    "            numero = numero * self.factorial(numero - 1)\n",
    "        return numero\n",
    "    "
   ]
  },
  {
   "attachments": {},
   "cell_type": "markdown",
   "metadata": {},
   "source": [
    "6) Probar las funciones incorporadas en la clase del punto 5"
   ]
  },
  {
   "cell_type": "code",
   "execution_count": 26,
   "metadata": {},
   "outputs": [
    {
     "name": "stdout",
     "output_type": "stream",
     "text": [
      "es primo?  True\n",
      "nuero repetido  8 , repetido  2  de veces\n",
      "10 grados celsius a kelvin es: 283.15\n",
      "factoril de 5 es:  120\n"
     ]
    }
   ],
   "source": [
    "mates = Matematica()\n",
    "print(\"es primo? \", mates.isPrimo(5))\n",
    "\n",
    "lista = [1,8,2,5,4,8,10,7]\n",
    "valor_modal_result = mates.valorModal(lista)\n",
    "print(\"nuero repetido \",valor_modal_result[0],\", repetido \", valor_modal_result[1],\" de veces\")\n",
    "\n",
    "print(\"10 grados celsius a kelvin es:\", mates.convertGrados(10,\"celsius\",\"kelvin\"))\n",
    "\n",
    "print(\"factoril de 5 es: \",mates.factorial(5))"
   ]
  },
  {
   "attachments": {},
   "cell_type": "markdown",
   "metadata": {},
   "source": [
    "7) Es necesario que la clase creada en el punto 5 contenga una lista, sobre la cual se apliquen las funciones incorporadas"
   ]
  },
  {
   "cell_type": "code",
   "execution_count": 27,
   "metadata": {},
   "outputs": [],
   "source": [
    "class Matematica:\n",
    "    def __init__(self, lista):\n",
    "        self.lista = lista\n",
    "\n",
    "    def isPrimo(self):\n",
    "        for i in self.lista:\n",
    "            if (self.__isPrimo(i)):\n",
    "                print('El elemento', i, 'SI es un numero primo')\n",
    "            else:\n",
    "                print('El elemento', i, 'NO es un numero primo')\n",
    "\n",
    "    def convertGrados(self,origen,destino):\n",
    "        for i in self.lista:\n",
    "            print(i, 'grados', origen, 'son',\n",
    "                   self.__convertGrados(i, origen, destino),'grados',destino)\n",
    "\n",
    "    def __isPrimo(self,numero):\n",
    "        es_primo= True\n",
    "        for i in range(2,numero):\n",
    "            if(numero % i == 0):\n",
    "                es_primo = False\n",
    "                break\n",
    "            return es_primo\n",
    "\n",
    "    def factorial(self):\n",
    "        for i in self.lista:\n",
    "            print('El factorial de ', i, 'es', self.__factorial(i))\n",
    "        \n",
    "    def valorModal(self, lista = []):\n",
    "        dic_mas_repetido = {}\n",
    "        for numero in lista:\n",
    "            if(numero in dic_mas_repetido):\n",
    "                dic_mas_repetido[numero] += 1\n",
    "            else:\n",
    "                dic_mas_repetido[numero] = 1\n",
    "        num_mas_repetido = max(dic_mas_repetido,key=dic_mas_repetido.get)\n",
    "        cantidad_repetido = dic_mas_repetido[num_mas_repetido]\n",
    "        return num_mas_repetido,cantidad_repetido\n",
    "    \n",
    "    def __convertGrados(self,valor,origen,destino):\n",
    "        valor_destino = None\n",
    "        if (origen == 'celsius'):\n",
    "            if (destino == 'celsius'):\n",
    "                valor_destino = valor\n",
    "            elif (destino == 'farenheit'):\n",
    "                valor_destino = (valor * 9 / 5) + 32\n",
    "            elif (destino == 'kelvin'):\n",
    "                valor_destino = valor + 273.15\n",
    "            else:\n",
    "                print('Parámetro de Destino incorrecto')\n",
    "        elif (origen == 'farenheit'):\n",
    "            if (destino == 'celsius'):\n",
    "                valor_destino = (valor - 32) * 5 / 9\n",
    "            elif (destino == 'farenheit'):\n",
    "                valor_destino = valor\n",
    "            elif (destino == 'kelvin'):\n",
    "                valor_destino = ((valor - 32) * 5 / 9) + 273.15\n",
    "            else:\n",
    "                print('Parámetro de Destino incorrecto')\n",
    "        elif (origen == 'kelvin'):\n",
    "            if (destino == 'celsius'):\n",
    "                valor_destino = valor - 273.15\n",
    "            elif (destino == 'farenheit'):\n",
    "                valor_destino = ((valor - 273.15) * 9 / 5) + 32\n",
    "            elif (destino == 'kelvin'):\n",
    "                valor_destino = valor\n",
    "            else:\n",
    "                print('Parámetro de Destino incorrecto')\n",
    "        else:\n",
    "            print('Parámetro de Origen incorrecto')\n",
    "        return valor_destino\n",
    "    \n",
    "    def __factorial(self, numero):\n",
    "        if(type(numero) != int):\n",
    "            return 'El numero debe ser un entero'\n",
    "        if(numero < 0):\n",
    "            return 'El numero debe ser pisitivo'\n",
    "        if (numero > 1):\n",
    "            numero = numero * self.factorial(numero - 1)\n",
    "        return numero"
   ]
  },
  {
   "cell_type": "code",
   "execution_count": 29,
   "metadata": {},
   "outputs": [
    {
     "name": "stdout",
     "output_type": "stream",
     "text": [
      "0 grados kelvin son -459.66999999999996 grados farenheit\n",
      "1 grados kelvin son -457.87 grados farenheit\n",
      "1 grados kelvin son -457.87 grados farenheit\n",
      "2 grados kelvin son -456.07 grados farenheit\n",
      "3 grados kelvin son -454.27 grados farenheit\n",
      "3 grados kelvin son -454.27 grados farenheit\n",
      "3 grados kelvin son -454.27 grados farenheit\n",
      "5 grados kelvin son -450.66999999999996 grados farenheit\n",
      "9 grados kelvin son -443.46999999999997 grados farenheit\n",
      "8 grados kelvin son -445.27 grados farenheit\n",
      "7 grados kelvin son -447.07 grados farenheit\n"
     ]
    }
   ],
   "source": [
    "mates = Matematica([0,1,1,2,3,3,3,5,9,8,7])\n",
    "mates.convertGrados(\"kelvin\",\"farenheit\")"
   ]
  },
  {
   "attachments": {},
   "cell_type": "markdown",
   "metadata": {},
   "source": [
    "8) Crear un archivo .py aparte y ubicar allí la clase generada en el punto anterior. Luego realizar la importación del módulo y probar alguna de sus funciones"
   ]
  },
  {
   "cell_type": "code",
   "execution_count": 32,
   "metadata": {},
   "outputs": [
    {
     "name": "stdout",
     "output_type": "stream",
     "text": [
      "El elemento 0 NO es un numero primo\n",
      "El elemento 5 SI es un numero primo\n",
      "El elemento 4 NO es un numero primo\n",
      "El elemento 7 SI es un numero primo\n",
      "El elemento 9 SI es un numero primo\n",
      "El elemento 10 NO es un numero primo\n",
      "El elemento 11 SI es un numero primo\n",
      "El elemento 12 NO es un numero primo\n",
      "El elemento 13 SI es un numero primo\n",
      "El elemento 15 SI es un numero primo\n",
      "El elemento 14 NO es un numero primo\n"
     ]
    }
   ],
   "source": [
    "from misHerramientas import *\n",
    "\n",
    "h = Matematica([0,5,4,7,9,10,11,12,13,15,14])\n",
    "h.isPrimo()\n"
   ]
  }
 ],
 "metadata": {
  "interpreter": {
   "hash": "c85384e4cb51c8b72350f3a8712cc8351fdc3955e32a27f9b60c6242ab125f01"
  },
  "kernelspec": {
   "display_name": "Python 3 (ipykernel)",
   "language": "python",
   "name": "python3"
  },
  "language_info": {
   "codemirror_mode": {
    "name": "ipython",
    "version": 3
   },
   "file_extension": ".py",
   "mimetype": "text/x-python",
   "name": "python",
   "nbconvert_exporter": "python",
   "pygments_lexer": "ipython3",
   "version": "3.10.11"
  }
 },
 "nbformat": 4,
 "nbformat_minor": 4
}
